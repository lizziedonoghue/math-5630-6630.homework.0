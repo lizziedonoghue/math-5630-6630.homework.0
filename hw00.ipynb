{
  "nbformat": 4,
  "nbformat_minor": 0,
  "metadata": {
    "colab": {
      "provenance": [],
      "authorship_tag": "ABX9TyNuYFJwVNGR3QSs9c6Hj5Vu",
      "include_colab_link": true
    },
    "kernelspec": {
      "name": "python3",
      "display_name": "Python 3"
    },
    "language_info": {
      "name": "python"
    }
  },
  "cells": [
    {
      "cell_type": "markdown",
      "metadata": {
        "id": "view-in-github",
        "colab_type": "text"
      },
      "source": [
        "<a href=\"https://colab.research.google.com/github/lizziedonoghue/math-5630-6630.homework.0/blob/main/hw00.ipynb\" target=\"_parent\"><img src=\"https://colab.research.google.com/assets/colab-badge.svg\" alt=\"Open In Colab\"/></a>"
      ]
    },
    {
      "cell_type": "code",
      "execution_count": 7,
      "metadata": {
        "colab": {
          "base_uri": "https://localhost:8080/"
        },
        "id": "-7_sP1pdGMgr",
        "outputId": "b14d1fce-edf6-4b06-a4fb-d4d40e8f3961"
      },
      "outputs": [
        {
          "output_type": "stream",
          "name": "stdout",
          "text": [
            "The term a_10 is 149\n",
            "The determinant of A is 0\n"
          ]
        }
      ],
      "source": [
        "# Author: Lizzie Donoghue / emd0055@auburn.edu\n",
        "# Date: 2024-09-01\n",
        "# Assignment Name: hw00\n",
        "\n",
        "import numpy as np\n",
        "import time\n",
        "\n",
        "# The following class defines 3 functions for each problem respectively.\n",
        "# Please follow the instruction inside each function.\n",
        "\n",
        "def p1(m):\n",
        "    \"\"\"\n",
        "    This function takes an integer m and returns the term a_m in the sequence defined by\n",
        "    a_0 = 0, a_1 = 1, a_2 = 1, and a_n = a_{n-1} + a_{n-2} + a_{n-3} for n >= 3.\n",
        "    :param m: an integer\n",
        "    :return: the m-th term in the sequence\n",
        "    \"\"\"\n",
        "    if m < 0:\n",
        "        return None\n",
        "    else:\n",
        "        pass # add your code here\n",
        "\n",
        "def compute_term(m):\n",
        "  if m < 0:\n",
        "    return None\n",
        "  elif m == 0:\n",
        "    return 0\n",
        "  elif m == 1 or m == 2:\n",
        "    return 1\n",
        "  else:\n",
        "    a = 0\n",
        "    b = 1\n",
        "    c = 1\n",
        "    for _ in range(3, m + 1):\n",
        "      next_term = a + b + c\n",
        "      a = b\n",
        "      b = c\n",
        "      c = next_term\n",
        "    return c\n",
        "\n",
        "# Example usage\n",
        "m = 10\n",
        "print(f\"The term a_{m} is {compute_term(m)}\")\n",
        "\n",
        "\n",
        "def p2(A):\n",
        "    \"\"\"\n",
        "    This function takes a numpy matrix A of size n x n and returns the determinant of A.\n",
        "    :param A: a numpy matrix of size n x n\n",
        "    :return: the determinant of A\n",
        "    \"\"\"\n",
        "    if A.shape[0] != A.shape[1]:\n",
        "        return None\n",
        "    else:\n",
        "        pass # add your code here\n",
        "\n",
        "def determinant(A):\n",
        "  n = A.shape[0]\n",
        "  if n == 1:\n",
        "    return A[0, 0]\n",
        "  elif n == 2:\n",
        "    return A[0, 0] * A[1, 1] - A[0, 1] * A[1, 0]\n",
        "  else:\n",
        "    det = 0\n",
        "    for j in range(n):\n",
        "      minor = A[1:, [i for i in range(n) if i != j]]\n",
        "      det += (-1) ** (j) * A[0, j] * determinant(minor)\n",
        "    return det\n",
        "\n",
        "# Example usage:\n",
        "A = np.array([[1, 2, 3], [4, 5, 6], [7, 8, 9]])\n",
        "print(f\"The determinant of A is {determinant(A)}\")\n",
        "\n",
        "\n",
        "def p3():\n",
        "    \"\"\"\n",
        "    This function should have a run time about 1 second.\n",
        "    :return: no returns\n",
        "    \"\"\"\n",
        "\n",
        "    pass # add your code here\n",
        "\n",
        "def close_to_one_second():\n",
        "  start_time = time.time()\n",
        "  while time.time() - start_time < 1:\n",
        "    pass\n",
        "\n",
        "close_to_one_second()"
      ]
    }
  ]
}